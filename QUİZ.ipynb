{
  "nbformat": 4,
  "nbformat_minor": 0,
  "metadata": {
    "colab": {
      "provenance": []
    },
    "kernelspec": {
      "name": "python3",
      "display_name": "Python 3"
    },
    "language_info": {
      "name": "python"
    }
  },
  "cells": [
    {
      "cell_type": "code",
      "execution_count": null,
      "metadata": {
        "colab": {
          "base_uri": "https://localhost:8080/"
        },
        "id": "fAChPgzhxbTO",
        "outputId": "04a636ee-3a59-4dba-a6c7-768617d65d32"
      },
      "outputs": [
        {
          "output_type": "stream",
          "name": "stdout",
          "text": [
            "Merhaba, İGÜ - İSTKA / quiz\n"
          ]
        }
      ],
      "source": [
        "print(\"Merhaba, İGÜ - İSTKA / quiz\") # print ekrana çıktı veren bir koddur."
      ]
    },
    {
      "cell_type": "code",
      "source": [
        "import sys # import python programlama dilinde yazılıma kütüphane eklemeye yarayan bir kod blogudur.\n",
        "print(sys.version)"
      ],
      "metadata": {
        "colab": {
          "base_uri": "https://localhost:8080/"
        },
        "id": "9XvXS-rUxp7S",
        "outputId": "2be5e6a0-3dd4-43ad-9b2d-1cee449cf683"
      },
      "execution_count": null,
      "outputs": [
        {
          "output_type": "stream",
          "name": "stdout",
          "text": [
            "3.10.12 (main, Jul 29 2024, 16:56:48) [GCC 11.4.0]\n"
          ]
        }
      ]
    },
    {
      "cell_type": "code",
      "source": [
        "from google.colab import drive # google colab - drive bağlantısı\n",
        "\n",
        "drive.mount('/content/drive')"
      ],
      "metadata": {
        "colab": {
          "base_uri": "https://localhost:8080/"
        },
        "id": "_jRg_KLZx_gJ",
        "outputId": "aa12fdaf-7198-463c-e2c2-835d402acf57"
      },
      "execution_count": null,
      "outputs": [
        {
          "output_type": "stream",
          "name": "stdout",
          "text": [
            "Mounted at /content/drive\n"
          ]
        }
      ]
    },
    {
      "cell_type": "code",
      "source": [
        "# İsim listesi Aşağıda verildi.\n",
        "isimler = [\"ali\", \"şerafettin\", \"osman\", \"iclal\", \"ayşe\"]\n",
        "\n",
        "# En uzun ismi bulan fonksiyon yazdır.\n",
        "def en_uzun_isim_bul(isim_listesi):\n",
        "    en_uzun_isim = max(isim_listesi, key=len)\n",
        "    return en_uzun_isim\n",
        "\n",
        "# En uzun ismin indeksini bulan fonksiyon\n",
        "def isim_indeksi_bul(isim_listesi, isim):\n",
        "    if isim in isim_listesi:\n",
        "        return isim_listesi.index(isim)\n",
        "    return -1  # İsim listede bulunmuyorsa -1 döndür\n",
        "\n",
        "# Fonksiyonları kullanarak çözümleme\n",
        "en_uzun_isim = en_uzun_isim_bul(isimler)\n",
        "indeks = isim_indeksi_bul(isimler, en_uzun_isim)\n",
        "\n",
        "print(f\"En uzun isim: {en_uzun_isim}\")\n",
        "print(f\"En uzun ismin indeksi: {indeks}\")\n"
      ],
      "metadata": {
        "colab": {
          "base_uri": "https://localhost:8080/"
        },
        "id": "rhyDGKhKyMbi",
        "outputId": "1ae3f4c1-1343-4481-e3fb-9ec94a03f506"
      },
      "execution_count": null,
      "outputs": [
        {
          "output_type": "stream",
          "name": "stdout",
          "text": [
            "En uzun isim: şerafettin\n",
            "En uzun ismin indeksi: 1\n"
          ]
        }
      ]
    },
    {
      "cell_type": "code",
      "source": [
        "# Boş bir liste oluştur.\n",
        "sayilar = []\n",
        "\n",
        "# 1 ile 175 arasındaki sayıları kontrol et.\n",
        "for sayi in range(1, 176):\n",
        "    if sayi % 13 == 0:\n",
        "        sayilar.append(sayi)\n",
        "\n",
        "# Listeyi ekrana yazdırıyoruz\n",
        "print(\"13'e bölünebilen sayılar:\", sayilar)\n",
        "\n",
        "# Listenin kaç eleman içerdiğini yazdır.\n",
        "print(\"Listeye eklenen eleman sayısı:\", len(sayilar))\n"
      ],
      "metadata": {
        "colab": {
          "base_uri": "https://localhost:8080/"
        },
        "id": "q5DJ-vOvzEwS",
        "outputId": "e4d0bd88-a12b-4e28-c90b-bc10dbde146e"
      },
      "execution_count": null,
      "outputs": [
        {
          "output_type": "stream",
          "name": "stdout",
          "text": [
            "13'e bölünebilen sayılar: [13, 26, 39, 52, 65, 78, 91, 104, 117, 130, 143, 156, 169]\n",
            "Listeye eklenen eleman sayısı: 13\n"
          ]
        }
      ]
    }
  ]
}