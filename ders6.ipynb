{
  "nbformat": 4,
  "nbformat_minor": 0,
  "metadata": {
    "colab": {
      "provenance": []
    },
    "kernelspec": {
      "name": "python3",
      "display_name": "Python 3"
    },
    "language_info": {
      "name": "python"
    }
  },
  "cells": [
    {
      "cell_type": "code",
      "execution_count": null,
      "metadata": {
        "colab": {
          "base_uri": "https://localhost:8080/"
        },
        "id": "yB83i2_Rkpp7",
        "outputId": "b4e6a7ac-7ea3-410d-962a-64af7596a758"
      },
      "outputs": [
        {
          "output_type": "stream",
          "name": "stdout",
          "text": [
            "Merhaba, İGÜ - İSTKA / Ders 6\n"
          ]
        }
      ],
      "source": [
        "print(\"Merhaba, İGÜ - İSTKA / Ders 6\") # print ekrana çıktı veren bir koddur."
      ]
    },
    {
      "cell_type": "code",
      "source": [
        "import sys # import python programlama dilinde yazılıma kütüphane eklemeye yarayan bir kod blogudur.\n",
        "print(sys.version)"
      ],
      "metadata": {
        "colab": {
          "base_uri": "https://localhost:8080/"
        },
        "id": "c3Z2oZLGlJGK",
        "outputId": "890cf61f-804e-4039-bc8c-76af66330690"
      },
      "execution_count": null,
      "outputs": [
        {
          "output_type": "stream",
          "name": "stdout",
          "text": [
            "3.10.12 (main, Jul 29 2024, 16:56:48) [GCC 11.4.0]\n"
          ]
        }
      ]
    },
    {
      "cell_type": "code",
      "source": [
        "from google.colab import drive # google colab - drive bağlantısı\n",
        "\n",
        "drive.mount('/content/drive')"
      ],
      "metadata": {
        "colab": {
          "base_uri": "https://localhost:8080/"
        },
        "id": "MdC0w94GlNPQ",
        "outputId": "4fe741c8-c9f2-4fc3-ff8b-a3bf11b94220"
      },
      "execution_count": null,
      "outputs": [
        {
          "output_type": "stream",
          "name": "stdout",
          "text": [
            "Mounted at /content/drive\n"
          ]
        }
      ]
    },
    {
      "cell_type": "code",
      "source": [
        "import os\n",
        "\n",
        "os.chdir('/content/drive/My Drive/VERIYAPILARI_ISTKA')\n",
        "\n",
        "!pwd # bize kodun çıktısını dosya yolu olarak veren kod blogudur."
      ],
      "metadata": {
        "colab": {
          "base_uri": "https://localhost:8080/"
        },
        "id": "s4bvcafxlWMx",
        "outputId": "593a07ba-8d81-43c9-d7a4-66a7f280519e"
      },
      "execution_count": null,
      "outputs": [
        {
          "output_type": "stream",
          "name": "stdout",
          "text": [
            "/content/drive/My Drive/VERIYAPILARI_ISTKA\n"
          ]
        }
      ]
    },
    {
      "cell_type": "markdown",
      "source": [
        "/content/drive/My Drive/VERIYAPILARI_ISTKA\n",
        "Akış Şeması Elemanları ve Süreçlerine --> https://github.com/acetinkaya/veriyapilari-algoritma\n",
        "\n",
        "PYTHON - POINTER, DİZİ / LİSTE, FONKSİYONLAR\n",
        "\n",
        "PYTHON Pointer Kavramı - Pointerler Python Programlama dilinde yoktur. Konu bitti :))\n",
        "\n",
        "Pointer C dili öğrenminde çok önemli bir kavramdır. Pointerler C dilinin güçlü öğeleridir. Bir pointer ana bellekte bir adres belirtir. Bazı dillerde ancak assembler dili yardımıyla çözülebilecek pekçok sorun C dilinde pointerler ile kolayca çözülebilir. Ayrıca adres kullanımı çok karmasik veri yapılarınin rahatlikla kullanilmasını sağlar.\n",
        "\n",
        "Pointer kavramına yöneltilen eleştirilerden en önemlisi, C diline yeni başlayanlar için çok karmaşık görünmesi ve yazılan programın zor anlaşılır olmasıdır.\n",
        "\n",
        "Kaynak Adresi: https://baskent.edu.tr/~tkaracay/etudio/ders/prg/c/pointer.html"
      ],
      "metadata": {
        "id": "9A7f6wwolfzg"
      }
    },
    {
      "cell_type": "code",
      "source": [
        "# Liste tanımlama\n",
        "dizi = [2, 3, 5, 6, 8, 11, 14]\n",
        "\n",
        "# Çift sayıları tutmak için boş liste\n",
        "numaralistesi = []\n",
        "\n",
        "# For ve if ile çift sayıları bulma\n",
        "for i in dizi:\n",
        "    if i % 2 == 0:\n",
        "        numaralistesi.append(i)\n",
        "\n",
        "print(f\"Listede bulunan çift sayılar: {numaralistesi}\")\n",
        "print(\"Adet çift sayı\", len(numaralistesi), \"bulunmaktadır !!!\")"
      ],
      "metadata": {
        "colab": {
          "base_uri": "https://localhost:8080/"
        },
        "id": "PGoku1Xalh3A",
        "outputId": "0a2a195e-53a7-42ba-bfbd-ac49e0bf33d5"
      },
      "execution_count": null,
      "outputs": [
        {
          "output_type": "stream",
          "name": "stdout",
          "text": [
            "Listede bulunan çift sayılar: [2, 6, 8, 14]\n",
            "Adet çift sayı 4 bulunmaktadır !!!\n"
          ]
        }
      ]
    },
    {
      "cell_type": "code",
      "source": [
        "dizi = [\"elma\", \"muz\", \"çilek\", \"su\", \"cikolata\"] # Malzeme Listesi\n",
        "\n",
        "aranacak_urun = \"muz\" # Aranacak eleman\n",
        "\n",
        "if aranacak_urun in dizi:\n",
        "    print(aranacak_urun, \"liste içerisinde mevcut.\")\n",
        "else:\n",
        "    print(aranacak_urun, \"liste içerisinde mevcut değil.\")"
      ],
      "metadata": {
        "colab": {
          "base_uri": "https://localhost:8080/"
        },
        "id": "EM9t3Pjnlphn",
        "outputId": "94878c7a-880f-429b-9f96-718dca265ae5"
      },
      "execution_count": null,
      "outputs": [
        {
          "output_type": "stream",
          "name": "stdout",
          "text": [
            "muz liste içerisinde mevcut.\n"
          ]
        }
      ]
    },
    {
      "cell_type": "markdown",
      "source": [
        "Python Veri Yapılarında Fonksiyonlar ve Kullanım Kuralları\n",
        "\n",
        "Fonksiyonlar, belirli bir kod üzerinde ilgili görevi gerçekleştiren kod bloklarıdır.\n",
        "\n",
        "Bir fonksiyon tanımlandığında, ona bir özel isim verilir ve gerektiğinde bu isimle çağrılarak çalıştırılır.\n",
        "\n",
        "\n",
        "Fonksiyonlar kodun bütünlüğünde aynı kodu tekrar tekrar yazmak yerine; kodu daha modüler, yeniden kullanılabilir ve anlaşılır hale getirir.\n",
        "\n",
        "Fonksiyonların Kullanım Nedenleri-->\n",
        "\n",
        "Kodun Tekrarını Azaltır\n",
        "Modülerlik Sağlar\n",
        "Anlaşılabilirlik ve Bakım Kolaylığı\n",
        "Yeniden Kullanılabilirlik"
      ],
      "metadata": {
        "id": "abnG_-vgp2RQ"
      }
    },
    {
      "cell_type": "code",
      "source": [
        "# Matematiksel Toplama İşlemi\n",
        "\n",
        "def toplama(a, b):\n",
        "    return a + b\n",
        "\n",
        "# Fonksiyonu çağırarak kullanma\n",
        "sonuc = toplama(5, 3)\n",
        "print(f\"Toplama sonucu: {sonuc}\")\n",
        "print(\"Toplama sonucu: \",sonuc)"
      ],
      "metadata": {
        "colab": {
          "base_uri": "https://localhost:8080/"
        },
        "id": "sq_5Ophcp4Uw",
        "outputId": "e9dda4bc-8ad6-4b4b-a8f3-1506e3c6ec5d"
      },
      "execution_count": null,
      "outputs": [
        {
          "output_type": "stream",
          "name": "stdout",
          "text": [
            "Toplama sonucu: 8\n",
            "Toplama sonucu:  8\n"
          ]
        }
      ]
    },
    {
      "cell_type": "code",
      "source": [
        "# Liste Elemanlarını Toplama\n",
        "sayilar = [1, 2, 3, 4, 5]\n",
        "\n",
        "def liste_toplam(liste):\n",
        "    toplam = 0\n",
        "    for eleman in liste:\n",
        "        toplam += eleman\n",
        "    return toplam\n",
        "\n",
        "# Fonksiyonu çağırarak kullanma\n",
        "sonuc = liste_toplam(sayilar)\n",
        "print(\"Toplama sonucu: \",sonuc)"
      ],
      "metadata": {
        "colab": {
          "base_uri": "https://localhost:8080/"
        },
        "id": "VkPqhx24yXaS",
        "outputId": "fb8340ec-5e85-4245-f79e-c798e53b523c"
      },
      "execution_count": null,
      "outputs": [
        {
          "output_type": "stream",
          "name": "stdout",
          "text": [
            "Toplama sonucu:  15\n"
          ]
        }
      ]
    },
    {
      "cell_type": "code",
      "source": [
        "# Fibonacci Dizisi Hesaplama\n",
        "\n",
        "def fibonacci(n):\n",
        "    if n <= 0:\n",
        "        return \"Geçersiz giriş\"\n",
        "    elif n == 1:\n",
        "        return 0\n",
        "    elif n == 2:\n",
        "        return 1\n",
        "    else:\n",
        "        return fibonacci(n-1) + fibonacci(n-2)\n",
        "\n",
        "# Fonksiyonu çağırarak kullanma\n",
        "n = 7\n",
        "sonuc = fibonacci(n)\n",
        "print(f\"Fibonacci dizisinin {n}. elemanı: {sonuc}\")"
      ],
      "metadata": {
        "colab": {
          "base_uri": "https://localhost:8080/"
        },
        "id": "iz1hDnt4z9dB",
        "outputId": "2e0c89ea-1725-47b9-9828-ca0822ca4137"
      },
      "execution_count": null,
      "outputs": [
        {
          "output_type": "stream",
          "name": "stdout",
          "text": [
            "Fibonacci dizisinin 7. elemanı: 8\n"
          ]
        }
      ]
    },
    {
      "cell_type": "markdown",
      "source": [
        "EBOB - En Büyük Ortak Bölen : İki veya daha fazla sayının bölenleri arasında en büyük olanıdır.\n",
        "\n",
        "EKOK - En Küçük Ortak Kat : İki veya daha fazla sayının katları arasında en küçük olanıdır.\n",
        "\n",
        "Örneğin, 18 ve 24 sayılarının EBOB ve EKOK -->\n",
        "\n",
        "18'in bölenleri: 1, 2, 3, 6, 9, 18\n",
        "\n",
        "24'ün bölenleri: 1, 2, 3, 4, 6, 8, 12, 24\n",
        "\n",
        "Ortak bölenler: 1, 2, 3, 6\n",
        "\n",
        "EBOB (En büyük ortak bölen) --> 6\n",
        "\n",
        "EKOK (En Küçük Ortak Kat):\n",
        "\n",
        "18'in katları: 18, 36, 54, 72, 90, ....\n",
        "\n",
        "24'ün katları: 24, 48, 72, 96, ....\n",
        "\n",
        "Ortak katlar: 72, 144, ...\n",
        "\n",
        "En küçük ortak kat: 72 (EKOK)\n",
        "\n",
        "18 ve 24 sayılarının EBOB'u 6, EKOK'u ise 72'dir."
      ],
      "metadata": {
        "id": "dAPkTtNN3CK8"
      }
    },
    {
      "cell_type": "code",
      "source": [
        "# EBOB be EKOK Bulma\n",
        "\n",
        "def ebob(a, b):\n",
        "    while b:\n",
        "        a, b = b, a % b\n",
        "    return a\n",
        "\n",
        "def ekok(a, b):\n",
        "    return a * b // ebob(a, b)\n",
        "\n",
        "# Kullanıcıdan iki sayı al\n",
        "Bir_Sayi = int(input(\"Birinci sayıyı girin: \"))\n",
        "iki_Sayi = int(input(\"İkinci sayıyı girin: \"))\n",
        "\n",
        "# EBOB ve EKOK hesapla\n",
        "ebob_sonuc = ebob(Bir_Sayi, iki_Sayi)\n",
        "ekok_sonuc = ekok(Bir_Sayi, iki_Sayi)\n",
        "\n",
        "# Sonuçları göster\n",
        "print(\"Sayılarının EBOB'u: \", ebob_sonuc)\n",
        "print(\"Sayılarının EKOK'u: \", ekok_sonuc)"
      ],
      "metadata": {
        "colab": {
          "base_uri": "https://localhost:8080/"
        },
        "id": "n0aUuA9_3Djx",
        "outputId": "288c5cae-673f-4dee-b161-995055d53f3f"
      },
      "execution_count": null,
      "outputs": [
        {
          "output_type": "stream",
          "name": "stdout",
          "text": [
            "Birinci sayıyı girin: 47\n",
            "İkinci sayıyı girin: 571\n",
            "Sayılarının EBOB'u:  1\n",
            "Sayılarının EKOK'u:  26837\n"
          ]
        }
      ]
    },
    {
      "cell_type": "code",
      "source": [
        "# Asal Sayı Kontrolü ve Asal Sayılar Listesi\n",
        "def asal_mi(sayi):\n",
        "    if sayi < 2:\n",
        "        return False\n",
        "    for i in range(2, int(sayi ** 0.5) + 1):\n",
        "        if sayi % i == 0:\n",
        "            return False\n",
        "    return True\n",
        "\n",
        "def asal_sayilar(aralik):\n",
        "    asal_listesi = []\n",
        "    for sayi in range(2, aralik + 1):\n",
        "        if asal_mi(sayi):\n",
        "            asal_listesi.append(sayi)\n",
        "    return asal_listesi\n",
        "\n",
        "# Fonksiyonları çağırarak kullanma\n",
        "aralik = 50\n",
        "sonuc = asal_sayilar(aralik)\n",
        "print(\"1 ile\", aralik, \" arasındaki asal sayılar: \", sonuc)"
      ],
      "metadata": {
        "colab": {
          "base_uri": "https://localhost:8080/"
        },
        "id": "nFUFzS2i6noJ",
        "outputId": "66708d34-f706-42e1-a426-e4dbe79729e5"
      },
      "execution_count": null,
      "outputs": [
        {
          "output_type": "stream",
          "name": "stdout",
          "text": [
            "1 ile 50  arasındaki asal sayılar:  [2, 3, 5, 7, 11, 13, 17, 19, 23, 29, 31, 37, 41, 43, 47]\n"
          ]
        }
      ]
    },
    {
      "cell_type": "code",
      "source": [
        "buzdolabi = { # Buzdolabındaki meyveler ve miktarlarını tutan sözlük\n",
        "    \"elma\": 5,    # 5 kilo elma\n",
        "    \"muz\": 3,     # 3 kilo muz\n",
        "    \"kiraz\": 2,   # 2 kilo kiraz\n",
        "    \"hurma\": 4    # 4 kilo hurma\n",
        "}\n",
        "\n",
        "def buzdolabi_durumu_yazdir(): # Mevcut buzdolabı durumunu yazdıran fonksiyon\n",
        "    print(\"Buzdolabındaki meyve miktarları:\")\n",
        "    for meyve, miktar in buzdolabi.items():\n",
        "        print(f\"{meyve}: {miktar} kilo\")\n",
        "    print(\"\\n\")\n",
        "\n",
        "\n",
        "def meyve_tuket(meyve, miktar): # Meyveden belirtilen miktarı düşen fonksiyon\n",
        "    if meyve in buzdolabi:\n",
        "        if buzdolabi[meyve] >= miktar:\n",
        "            buzdolabi[meyve] -= miktar\n",
        "            print(f\"{miktar} kilo {meyve} tüketildi.\")\n",
        "            if buzdolabi[meyve] == 0:\n",
        "                print(f\"{meyve} kalmadı. {meyve} almalısın!\")\n",
        "                yeni_miktar = float(input(f\"Kaç kilo {meyve} almak istersiniz?: \"))\n",
        "                buzdolabi[meyve] = yeni_miktar\n",
        "                print(f\"{meyve} buzdolabına {yeni_miktar} kilo olarak eklendi.\")\n",
        "        else:\n",
        "            print(f\"Buzdolabında yeterli {meyve} yok. Mevcut miktar: {buzdolabi[meyve]} kilo.\")\n",
        "    else:\n",
        "        print(f\"Buzdolabında {meyve} bulunmuyor.\")\n",
        "\n",
        "print(\"Buzdolabı Uygulaması\") # Uygulama başlangıc noktası\n",
        "buzdolabi_durumu_yazdir()\n",
        "\n",
        "while True: #Ana döngü tanımlaması\n",
        "    # Kullanıcıdan meyve ve miktar bilgisi alma\n",
        "    meyve = input(\"Hangi meyveyi tüketmek istersiniz? (Çıkmak için 'exit' yazın): \").lower()\n",
        "\n",
        "    if meyve == 'exit':\n",
        "        print(\"Uygulama sonlandırılıyor.\")\n",
        "        break\n",
        "\n",
        "    miktar = float(input(f\"Kaç kilo {meyve} tüketmek istersiniz?: \"))\n",
        "\n",
        "    meyve_tuket(meyve, miktar)     # Meyve tüketme işlemi\n",
        "\n",
        "    buzdolabi_durumu_yazdir()  # Güncellenmiş buzdolabı durumunu yazdırma"
      ],
      "metadata": {
        "colab": {
          "base_uri": "https://localhost:8080/"
        },
        "id": "6AZGj5jH9ixZ",
        "outputId": "6f65f8f7-0f2d-4915-fa71-366c9badb1a2"
      },
      "execution_count": 14,
      "outputs": [
        {
          "output_type": "stream",
          "name": "stdout",
          "text": [
            "Buzdolabı Uygulaması\n",
            "Buzdolabındaki meyve miktarları:\n",
            "elma: 5 kilo\n",
            "muz: 3 kilo\n",
            "kiraz: 2 kilo\n",
            "hurma: 4 kilo\n",
            "\n",
            "\n",
            "Hangi meyveyi tüketmek istersiniz? (Çıkmak için 'exit' yazın): elma\n",
            "Kaç kilo elma tüketmek istersiniz?: 2\n",
            "2.0 kilo elma tüketildi.\n",
            "Buzdolabındaki meyve miktarları:\n",
            "elma: 3.0 kilo\n",
            "muz: 3 kilo\n",
            "kiraz: 2 kilo\n",
            "hurma: 4 kilo\n",
            "\n",
            "\n",
            "Hangi meyveyi tüketmek istersiniz? (Çıkmak için 'exit' yazın): elma\n",
            "Kaç kilo elma tüketmek istersiniz?: 3\n",
            "3.0 kilo elma tüketildi.\n",
            "elma kalmadı. elma almalısın!\n",
            "Kaç kilo elma almak istersiniz?: 5\n",
            "elma buzdolabına 5.0 kilo olarak eklendi.\n",
            "Buzdolabındaki meyve miktarları:\n",
            "elma: 5.0 kilo\n",
            "muz: 3 kilo\n",
            "kiraz: 2 kilo\n",
            "hurma: 4 kilo\n",
            "\n",
            "\n",
            "Hangi meyveyi tüketmek istersiniz? (Çıkmak için 'exit' yazın): exit\n",
            "Uygulama sonlandırılıyor.\n"
          ]
        }
      ]
    },
    {
      "cell_type": "code",
      "source": [
        "# Diyet listesindeki besinler ve kalorilerini tutan sözlük (Adet başına kalori)\n",
        "diyet_listesi = {\n",
        "    \"elma\": {\"miktar\": 5, \"kalori\": 52},    # 1 adet elma: 52 kalori\n",
        "    \"muz\": {\"miktar\": 3, \"kalori\": 89},     # 1 adet muz: 89 kalori\n",
        "    \"kiraz\": {\"miktar\": 2, \"kalori\": 50},   # 1 adet kiraz: 50 kalori\n",
        "    \"hurma\": {\"miktar\": 4, \"kalori\": 282}   # 1 adet hurma: 282 kalori\n",
        "}\n",
        "\n",
        "# Mevcut diyet listesini yazdıran fonksiyon\n",
        "def diyet_listesi_yazdir():\n",
        "    print(\"Diyet listesindeki besin miktarları ve kalorileri:\")\n",
        "    for besin, bilgi in diyet_listesi.items():\n",
        "        print(f\"{besin}: {bilgi['miktar']} Adet, Toplam Kalori: {bilgi['miktar'] * bilgi['kalori']} kalori\")\n",
        "    print(\"\\n\")\n",
        "\n",
        "# Besinden belirtilen miktarı düşen ve kalori hesaplayan fonksiyon\n",
        "def besin_tuket(besin, miktar):\n",
        "    if besin in diyet_listesi:\n",
        "        if diyet_listesi[besin][\"miktar\"] >= miktar:\n",
        "            diyet_listesi[besin][\"miktar\"] -= miktar\n",
        "            tuketilen_kalori = miktar * diyet_listesi[besin][\"kalori\"]\n",
        "            print(f\"{miktar} kilo {besin} tüketildi. Alınan kalori: {tuketilen_kalori} kalori.\")\n",
        "            if diyet_listesi[besin][\"miktar\"] == 0:\n",
        "                print(f\"{besin} kalmadı. {besin} almalısın!\")\n",
        "                yeni_miktar = float(input(f\"Kaç kilo {besin} almak istersiniz?: \"))\n",
        "                diyet_listesi[besin][\"miktar\"] = yeni_miktar\n",
        "                print(f\"{besin} diyet listesine {yeni_miktar} kilo olarak eklendi.\")\n",
        "        else:\n",
        "            print(f\"Diyet listesinde yeterli {besin} yok. Mevcut miktar: {diyet_listesi[besin]['miktar']} kilo.\")\n",
        "    else:\n",
        "        print(f\"Diyet listesinde {besin} bulunmuyor.\")\n",
        "\n",
        "print(\"Diyet Uygulaması\") # Uygulama başlangıcı\n",
        "diyet_listesi_yazdir()\n",
        "\n",
        "while True:     # Kullanıcıdan besin ve miktar bilgisi alma\n",
        "\n",
        "    besin = input(\"Hangi besini tüketmek istersiniz? (Çıkmak için 'exit' yazın): \").lower()\n",
        "\n",
        "    if besin == 'exit':\n",
        "        print(\"Uygulama sonlandırılıyor.\")\n",
        "        break\n",
        "\n",
        "    miktar = float(input(f\"Kaç kilo {besin} tüketmek istersiniz?: \"))\n",
        "\n",
        "    besin_tuket(besin, miktar)     # Besin tüketme işlemi\n",
        "\n",
        "    diyet_listesi_yazdir()     # Güncellenmiş diyet listesini yazdırma"
      ],
      "metadata": {
        "colab": {
          "base_uri": "https://localhost:8080/"
        },
        "id": "STP87oA8AJ9x",
        "outputId": "a302bfd2-0462-4298-94d4-1b52cd94baf0"
      },
      "execution_count": 16,
      "outputs": [
        {
          "output_type": "stream",
          "name": "stdout",
          "text": [
            "Diyet Uygulaması\n",
            "Diyet listesindeki besin miktarları ve kalorileri:\n",
            "elma: 5 Adet, Toplam Kalori: 260 kalori\n",
            "muz: 3 Adet, Toplam Kalori: 267 kalori\n",
            "kiraz: 2 Adet, Toplam Kalori: 100 kalori\n",
            "hurma: 4 Adet, Toplam Kalori: 1128 kalori\n",
            "\n",
            "\n",
            "Hangi besini tüketmek istersiniz? (Çıkmak için 'exit' yazın): muz\n",
            "Kaç kilo muz tüketmek istersiniz?: 2\n",
            "2.0 kilo muz tüketildi. Alınan kalori: 178.0 kalori.\n",
            "Diyet listesindeki besin miktarları ve kalorileri:\n",
            "elma: 5 Adet, Toplam Kalori: 260 kalori\n",
            "muz: 1.0 Adet, Toplam Kalori: 89.0 kalori\n",
            "kiraz: 2 Adet, Toplam Kalori: 100 kalori\n",
            "hurma: 4 Adet, Toplam Kalori: 1128 kalori\n",
            "\n",
            "\n",
            "Hangi besini tüketmek istersiniz? (Çıkmak için 'exit' yazın): exit\n",
            "Uygulama sonlandırılıyor.\n"
          ]
        }
      ]
    }
  ]
}